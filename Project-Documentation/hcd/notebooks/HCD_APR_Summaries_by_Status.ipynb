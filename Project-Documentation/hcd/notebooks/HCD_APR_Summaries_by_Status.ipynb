{
 "cells": [
  {
   "cell_type": "code",
   "execution_count": 1,
   "id": "fundamental-wrist",
   "metadata": {},
   "outputs": [],
   "source": [
    "import sys\n",
    "import os\n",
    "import getpass\n",
    "import matplotlib.pyplot as plt\n",
    "import numpy as np\n",
    "import pandas as pd\n",
    "%matplotlib inline\n",
    "\n",
    "user = getpass.getuser()\n",
    "sys.dont_write_bytecode = True\n",
    "\n",
    "sys.path.insert(0, '/Users/{}/Box/DataViz Projects/Utility Code'.format(user))\n",
    "\n",
    "from utils_io import *  # initial imports\n",
    "reload_module('utils_io')  # reload after update to utils_io.py\n",
    "from utils_io import *  # reload reflects updates"
   ]
  },
  {
   "cell_type": "markdown",
   "id": "genuine-terminal",
   "metadata": {},
   "source": [
    "## Pull HCD APR Project data"
   ]
  },
  {
   "cell_type": "code",
   "execution_count": 2,
   "id": "medieval-plane",
   "metadata": {},
   "outputs": [
    {
     "name": "stdout",
     "output_type": "stream",
     "text": [
      "pulling data in 3 chunks of 13000 rows each\n",
      "pulling chunk 0\n",
      "pulling chunk 1\n",
      "pulling chunk 2\n",
      "took 6.7492 seconds\n"
     ]
    }
   ],
   "source": [
    "apr_id = 'briv-ikjp'\n",
    "apr_df = pull_df_from_socrata(apr_id)"
   ]
  },
  {
   "cell_type": "markdown",
   "id": "unique-excerpt",
   "metadata": {},
   "source": [
    "## Summarize by mtc_type and total_units"
   ]
  },
  {
   "cell_type": "code",
   "execution_count": 7,
   "id": "chubby-drawing",
   "metadata": {},
   "outputs": [
    {
     "name": "stdout",
     "output_type": "stream",
     "text": [
      "<class 'pandas.core.frame.DataFrame'>\n",
      "RangeIndex: 30864 entries, 0 to 30863\n",
      "Data columns (total 75 columns):\n",
      " #   Column                       Non-Null Count  Dtype  \n",
      "---  ------                       --------------  -----  \n",
      " 0   mtc_id                       30864 non-null  object \n",
      " 1   mtc_type                     30667 non-null  object \n",
      " 2   mtc_year                     30864 non-null  float64\n",
      " 3   mtc_vlow_income_dr           30364 non-null  float64\n",
      " 4   mtc_vlow_income_ndr          30360 non-null  float64\n",
      " 5   mtc_vlow_tot                 30864 non-null  float64\n",
      " 6   mtc_low_income_dr            30363 non-null  float64\n",
      " 7   mtc_low_income_ndr           30358 non-null  float64\n",
      " 8   mtc_low_tot                  30864 non-null  float64\n",
      " 9   mtc_mod_income_dr            30366 non-null  float64\n",
      " 10  mtc_mod_income_ndr           30385 non-null  float64\n",
      " 11  mtc_mod_tot                  30864 non-null  float64\n",
      " 12  mtc_above_mod_income         30824 non-null  float64\n",
      " 13  mtc_total_units              30864 non-null  float64\n",
      " 14  mtc_issue_dt                 30667 non-null  object \n",
      " 15  mtc_address_full             30738 non-null  object \n",
      " 16  mtc_geocode_address          30405 non-null  object \n",
      " 17  mtc_geocode_type             30864 non-null  object \n",
      " 18  mtc_mapped                   30864 non-null  bool   \n",
      " 19  mtc_lat                      30698 non-null  float64\n",
      " 20  mtc_long                     30698 non-null  float64\n",
      " 21  mtc_wkt                      30698 non-null  object \n",
      " 22  mtc_pda                      30854 non-null  object \n",
      " 23  mtc_tpa                      30854 non-null  object \n",
      " 24  mtc_housing_element_site     30854 non-null  object \n",
      " 25  mtc_notes                    0 non-null      float64\n",
      " 26  jurs_name                    30864 non-null  object \n",
      " 27  cnty_name                    30864 non-null  object \n",
      " 28  year                         30864 non-null  float64\n",
      " 29  prior_apn                    2983 non-null   object \n",
      " 30  apn                          30680 non-null  object \n",
      " 31  street_address               30686 non-null  object \n",
      " 32  project_name                 14339 non-null  object \n",
      " 33  jurs_tracking_id             23670 non-null  object \n",
      " 34  unit_cat_desc                30864 non-null  object \n",
      " 35  tenure                       30864 non-null  object \n",
      " 36  vlow_income_dr               30864 non-null  float64\n",
      " 37  vlow_income_ndr              30864 non-null  float64\n",
      " 38  low_income_dr                30864 non-null  float64\n",
      " 39  low_income_ndr               30864 non-null  float64\n",
      " 40  mod_income_dr                30864 non-null  float64\n",
      " 41  mod_income_ndr               30864 non-null  float64\n",
      " 42  above_mod_income             30864 non-null  float64\n",
      " 43  ent_approve_dt               5453 non-null   object \n",
      " 44  no_entitlements              30864 non-null  float64\n",
      " 45  bp_vlow_income_dr            30864 non-null  float64\n",
      " 46  bp_vlow_income_ndr           30864 non-null  float64\n",
      " 47  bp_low_income_dr             30864 non-null  float64\n",
      " 48  bp_low_income_ndr            30864 non-null  float64\n",
      " 49  bp_mod_income_dr             30864 non-null  float64\n",
      " 50  bp_mod_income_ndr            30864 non-null  float64\n",
      " 51  bp_above_mod_income          30864 non-null  float64\n",
      " 52  bp_issue_dt                  17812 non-null  object \n",
      " 53  no_bilding_permits           30864 non-null  float64\n",
      " 54  co_vlow_income_dr            30864 non-null  float64\n",
      " 55  co_vlow_income_ndr           30864 non-null  float64\n",
      " 56  co_low_income_dr             30864 non-null  float64\n",
      " 57  co_low_income_ndr            30864 non-null  float64\n",
      " 58  co_mod_income_dr             30864 non-null  float64\n",
      " 59  co_mod_income_ndr            30864 non-null  float64\n",
      " 60  co_above_mod_income          30864 non-null  float64\n",
      " 61  co_issue_dt                  13269 non-null  object \n",
      " 62  no_other_forms_of_readiness  30864 non-null  float64\n",
      " 63  extr_low_income_units        2053 non-null   float64\n",
      " 64  approve_sb35                 30864 non-null  object \n",
      " 65  infill_units                 15675 non-null  object \n",
      " 66  fin_assist_name              474 non-null    object \n",
      " 67  dr_type                      1110 non-null   object \n",
      " 68  no_fa_dr                     5121 non-null   object \n",
      " 69  term_aff_dr                  757 non-null    object \n",
      " 70  dem_des_units                1413 non-null   float64\n",
      " 71  dem_or_des_units             1171 non-null   object \n",
      " 72  dem_des_units_own_rent       1142 non-null   object \n",
      " 73  notes                        4474 non-null   object \n",
      " 74  mtc_apn_fmt                  8893 non-null   object \n",
      "dtypes: bool(1), float64(42), object(32)\n",
      "memory usage: 17.5+ MB\n"
     ]
    }
   ],
   "source": [
    "apr_df.info()"
   ]
  },
  {
   "cell_type": "code",
   "execution_count": 14,
   "id": "legitimate-contributor",
   "metadata": {},
   "outputs": [
    {
     "data": {
      "text/html": [
       "<div>\n",
       "<style scoped>\n",
       "    .dataframe tbody tr th:only-of-type {\n",
       "        vertical-align: middle;\n",
       "    }\n",
       "\n",
       "    .dataframe tbody tr th {\n",
       "        vertical-align: top;\n",
       "    }\n",
       "\n",
       "    .dataframe thead th {\n",
       "        text-align: right;\n",
       "    }\n",
       "</style>\n",
       "<table border=\"1\" class=\"dataframe\">\n",
       "  <thead>\n",
       "    <tr style=\"text-align: right;\">\n",
       "      <th></th>\n",
       "      <th>mtc_type</th>\n",
       "      <th>mtc_year</th>\n",
       "      <th>mtc_total_units</th>\n",
       "    </tr>\n",
       "  </thead>\n",
       "  <tbody>\n",
       "    <tr>\n",
       "      <th>0</th>\n",
       "      <td>CERTIFICATE</td>\n",
       "      <td>2019.0</td>\n",
       "      <td>13884.0</td>\n",
       "    </tr>\n",
       "    <tr>\n",
       "      <th>1</th>\n",
       "      <td>ENTITLEMENT</td>\n",
       "      <td>2019.0</td>\n",
       "      <td>31889.0</td>\n",
       "    </tr>\n",
       "    <tr>\n",
       "      <th>2</th>\n",
       "      <td>PERMIT</td>\n",
       "      <td>2019.0</td>\n",
       "      <td>19865.0</td>\n",
       "    </tr>\n",
       "  </tbody>\n",
       "</table>\n",
       "</div>"
      ],
      "text/plain": [
       "      mtc_type  mtc_year  mtc_total_units\n",
       "0  CERTIFICATE    2019.0          13884.0\n",
       "1  ENTITLEMENT    2019.0          31889.0\n",
       "2       PERMIT    2019.0          19865.0"
      ]
     },
     "execution_count": 14,
     "metadata": {},
     "output_type": "execute_result"
    }
   ],
   "source": [
    "(apr_df.loc[apr_df['mtc_year'] == 2019][['mtc_type','mtc_total_units','mtc_year']]\n",
    " .groupby(['mtc_type','mtc_year'])\n",
    " .aggregate(sum)\n",
    " .reset_index())"
   ]
  },
  {
   "cell_type": "code",
   "execution_count": null,
   "id": "moral-summer",
   "metadata": {},
   "outputs": [],
   "source": []
  }
 ],
 "metadata": {
  "kernelspec": {
   "display_name": "Python 3",
   "language": "python",
   "name": "python3"
  },
  "language_info": {
   "codemirror_mode": {
    "name": "ipython",
    "version": 3
   },
   "file_extension": ".py",
   "mimetype": "text/x-python",
   "name": "python",
   "nbconvert_exporter": "python",
   "pygments_lexer": "ipython3",
   "version": "3.7.7"
  }
 },
 "nbformat": 4,
 "nbformat_minor": 5
}
